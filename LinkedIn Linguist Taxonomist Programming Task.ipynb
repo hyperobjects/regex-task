{
 "cells": [
  {
   "cell_type": "markdown",
   "metadata": {},
   "source": [
    "David Haddad"
   ]
  },
  {
   "cell_type": "markdown",
   "metadata": {},
   "source": [
    "Write a script that solves the following two problems and send it by email along with your output files and your other responses.  Be prepared to explain what challenges you faced and why you solved them the way you did.\n",
    "\n",
    "1)\tAssume you have the following text in a .txt file:\n",
    "\n",
    "###CLINICAL NURSE I\n",
    "****Research Nurse -- Neurology\n",
    "***Sign on Bonus***Staff Nurse - SJHC Telemetry -Nights F/T\n",
    "Clinical Nurse-E2 ICU Med/Surg/Neuro/Trauma ICU 0.9 rotating (34255) Â»\n",
    "Care Giver \\\\ Home Health Aide \\\\ CNA\n",
    "\n",
    "Process the text such that it matches the output text below.\n",
    "Print the output to a different txt file with the original string in one column and the processed string in the next column on the same line.\n",
    "\n",
    "clinical nurse i\n",
    "research nurse neurology\n",
    "sign on bonus staff nurse sjhc telemetry nights f t\n",
    "clinical nurse e2 icu med surg neuro trauma icu 0.9 rotating 34255 \n",
    "care giver home health aide cna"
   ]
  },
  {
   "cell_type": "code",
   "execution_count": 67,
   "metadata": {},
   "outputs": [
    {
     "name": "stdout",
     "output_type": "stream",
     "text": [
      "clinical nurse i\n",
      "research nurse neurology\n",
      "sign on bonusstaff nurse sjhc telemetry nights ft\n",
      "clinical nursee2 icu medsurgneurotrauma icu 0.9 rotating 34255 \n",
      "care giver home health aide cna\n"
     ]
    }
   ],
   "source": [
    "#open file\n",
    "with open(\"untitled1.txt\",\"r\") as f:\n",
    "    doc = f.read()\n",
    "    f.close()\n",
    "    \n",
    "#convert text to lower case\n",
    "doc = doc.lower() \n",
    "#print(doc)\n",
    "\n",
    "import re\n",
    "#remove all non-alphanumeric chars or newlines break\n",
    "d = re.sub('[^A-Za-z0-9.\\s\\n]+','', doc)\n",
    "x = re.sub(' +', ' ', d) #remove extra whitespaces\n",
    "print(x)"
   ]
  },
  {
   "cell_type": "markdown",
   "metadata": {},
   "source": [
    "2)\tGet unigram frequencies of each word in the processed text.\n",
    "Output each unigram along with its frequency (in separate columns) to a new csv file using the csv library in Python (https://docs.python.org/2/library/csv.html)\n"
   ]
  },
  {
   "cell_type": "code",
   "execution_count": 69,
   "metadata": {},
   "outputs": [],
   "source": [
    "#split string\n",
    "words = x.split()"
   ]
  },
  {
   "cell_type": "code",
   "execution_count": 70,
   "metadata": {},
   "outputs": [
    {
     "data": {
      "text/plain": [
       "{'clinical': 2,\n",
       " 'nurse': 3,\n",
       " 'i': 1,\n",
       " 'research': 1,\n",
       " 'neurology': 1,\n",
       " 'sign': 1,\n",
       " 'on': 1,\n",
       " 'bonusstaff': 1,\n",
       " 'sjhc': 1,\n",
       " 'telemetry': 1,\n",
       " 'nights': 1,\n",
       " 'ft': 1,\n",
       " 'nursee2': 1,\n",
       " 'icu': 2,\n",
       " 'medsurgneurotrauma': 1,\n",
       " '0.9': 1,\n",
       " 'rotating': 1,\n",
       " '34255': 1,\n",
       " 'care': 1,\n",
       " 'giver': 1,\n",
       " 'home': 1,\n",
       " 'health': 1,\n",
       " 'aide': 1,\n",
       " 'cna': 1}"
      ]
     },
     "execution_count": 70,
     "metadata": {},
     "output_type": "execute_result"
    }
   ],
   "source": [
    "from collections import Counter\n",
    "\n",
    "#create a counter of unique words\n",
    "count = Counter(words)\n",
    "\n",
    "#turn counter into a dictionary\n",
    "dic = dict(count)\n",
    "dic"
   ]
  },
  {
   "cell_type": "code",
   "execution_count": 71,
   "metadata": {},
   "outputs": [],
   "source": [
    "import csv"
   ]
  },
  {
   "cell_type": "code",
   "execution_count": 72,
   "metadata": {},
   "outputs": [],
   "source": [
    "#export unigram freqs as csv\n",
    "with open('link.csv', 'w') as f:\n",
    "    for key in dic.keys():\n",
    "        f.write(\"%s,%s\\n\"%(key,dic[key])) #comma separated values\n"
   ]
  },
  {
   "cell_type": "code",
   "execution_count": 73,
   "metadata": {},
   "outputs": [],
   "source": [
    "with open('link.csv', 'r') as f:\n",
    "    csv = f.read()\n",
    "    f.close()"
   ]
  },
  {
   "cell_type": "code",
   "execution_count": 74,
   "metadata": {},
   "outputs": [
    {
     "name": "stdout",
     "output_type": "stream",
     "text": [
      "clinical,2\n",
      "nurse,3\n",
      "i,1\n",
      "research,1\n",
      "neurology,1\n",
      "sign,1\n",
      "on,1\n",
      "bonusstaff,1\n",
      "sjhc,1\n",
      "telemetry,1\n",
      "nights,1\n",
      "ft,1\n",
      "nursee2,1\n",
      "icu,2\n",
      "medsurgneurotrauma,1\n",
      "0.9,1\n",
      "rotating,1\n",
      "34255,1\n",
      "care,1\n",
      "giver,1\n",
      "home,1\n",
      "health,1\n",
      "aide,1\n",
      "cna,1\n",
      "\n"
     ]
    }
   ],
   "source": [
    "print(csv)"
   ]
  },
  {
   "cell_type": "code",
   "execution_count": null,
   "metadata": {},
   "outputs": [],
   "source": []
  },
  {
   "cell_type": "code",
   "execution_count": null,
   "metadata": {},
   "outputs": [],
   "source": []
  },
  {
   "cell_type": "code",
   "execution_count": null,
   "metadata": {},
   "outputs": [],
   "source": []
  }
 ],
 "metadata": {
  "kernelspec": {
   "display_name": "Python 3",
   "language": "python",
   "name": "python3"
  },
  "language_info": {
   "codemirror_mode": {
    "name": "ipython",
    "version": 3
   },
   "file_extension": ".py",
   "mimetype": "text/x-python",
   "name": "python",
   "nbconvert_exporter": "python",
   "pygments_lexer": "ipython3",
   "version": "3.7.6"
  }
 },
 "nbformat": 4,
 "nbformat_minor": 2
}
